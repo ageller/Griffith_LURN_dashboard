{
 "cells": [
  {
   "attachments": {},
   "cell_type": "markdown",
   "metadata": {},
   "source": [
    "# Reproducing Jamie's analysis and testing  figures\n",
    "\n",
    "Some of the code below was written by Jamie Griffith.  I am testing that here.  \n",
    "\n",
    "I am also using this notebook as a testing ground for figures that could be included in the dashboard."
   ]
  },
  {
   "cell_type": "code",
   "execution_count": null,
   "metadata": {
    "vscode": {
     "languageId": "r"
    }
   },
   "outputs": [],
   "source": [
    "library(lurn)\n",
    "library(ggplot2)\n",
    "library(GGally)\n",
    "library(gt)\n",
    "library(ggradar)\n",
    "library(viridis)\n",
    "library(dplyr)\n",
    "library(tidyr)"
   ]
  },
  {
   "cell_type": "code",
   "execution_count": null,
   "metadata": {
    "vscode": {
     "languageId": "r"
    }
   },
   "outputs": [],
   "source": [
    "syn <- read.csv(\"../data/LURN_SI29_Synth_Final_NoFmt.csv\", header = TRUE)\n",
    "names(syn)[names(syn) == \"Sex\"] <- \"SEX\"\n",
    "syn <- score_lurn_si_29(syn)\n",
    "colnames(syn)"
   ]
  },
  {
   "cell_type": "code",
   "execution_count": null,
   "metadata": {
    "vscode": {
     "languageId": "r"
    }
   },
   "outputs": [],
   "source": [
    "splom_vars <- c(\n",
    "   \"lurn_si_29_total_score\", \"lurn_si_29_incontinence_score\",\n",
    "   \"lurn_si_29_pain_score\", \"lurn_si_29_voiding_score\",\n",
    "   \"lurn_si_29_urgency_score\", \"lurn_si_29_nocturia_score\",\n",
    "   \"lurn_si_29_bother\")\n",
    "\n",
    "splom_dat <- syn[splom_vars]\n",
    "names(splom_dat)<- c(\"Total\",\"Incontinence\", \"Pain\", \"Voiding\", \"Urgency\", \"Nocturia\", \"Bother\")\n",
    "colnames(splom_dat)\n",
    "head(splom_dat)"
   ]
  },
  {
   "cell_type": "code",
   "execution_count": null,
   "metadata": {
    "vscode": {
     "languageId": "r"
    }
   },
   "outputs": [],
   "source": [
    "ggpairs(\n",
    "    splom_dat,\n",
    "    lower = list(continuous = wrap(\"smooth_loess\", alpha = 1 / 10)),\n",
    "    columnLabels = c(\"Total\", \"Incontinence\", \"Pain\", \"Voiding\", \"Urgency\",\n",
    "    \"Nocturia\", \"Bother\"),\n",
    "    title = \"Scatterplot matrix (SPLOM) of LURN SI-29 scales: Synthetic data\"\n",
    ") +\n",
    "theme_bw()"
   ]
  },
  {
   "cell_type": "code",
   "execution_count": null,
   "metadata": {
    "vscode": {
     "languageId": "r"
    }
   },
   "outputs": [],
   "source": [
    "ggplot(splom_dat, aes(x = Voiding)) + geom_density()"
   ]
  },
  {
   "cell_type": "code",
   "execution_count": null,
   "metadata": {
    "vscode": {
     "languageId": "r"
    }
   },
   "outputs": [],
   "source": [
    "si_29_m_nms <- lurn_si_29_names(\"male\")\n",
    "si29_prelim_freq_table <- t(apply(syn[si_29_m_nms],\n",
    "                                  2,\n",
    "                                  function(x) table(factor(x, levels = 0:4),\n",
    "                                                    useNA = \"always\")))\n",
    "\n",
    "si29_prelim_prop_table <- prop.table(si29_prelim_freq_table, margin = 1)\n",
    "\n",
    "colnames(si29_prelim_prop_table) <- c(\"0\", \"1\", \"2\", \"3\", \"4\", \"Missing\")\n",
    "\n",
    "si29_prelim_freq_table"
   ]
  },
  {
   "cell_type": "code",
   "execution_count": null,
   "metadata": {
    "vscode": {
     "languageId": "r"
    }
   },
   "outputs": [],
   "source": [
    "this_patient_row <- syn[100, si_29_m_nms]\n",
    "this_patient_row"
   ]
  },
  {
   "cell_type": "code",
   "execution_count": null,
   "metadata": {
    "vscode": {
     "languageId": "r"
    }
   },
   "outputs": [],
   "source": [
    "syn[, si_29_m_nms[1]]"
   ]
  },
  {
   "cell_type": "code",
   "execution_count": null,
   "metadata": {
    "vscode": {
     "languageId": "r"
    }
   },
   "outputs": [],
   "source": [
    "for (cc in si_29_m_nms){\n",
    "    print(median(syn[, cc], na.rm = TRUE))\n",
    "}"
   ]
  },
  {
   "cell_type": "markdown",
   "metadata": {},
   "source": [
    "Long file"
   ]
  },
  {
   "cell_type": "code",
   "execution_count": null,
   "metadata": {
    "vscode": {
     "languageId": "r"
    }
   },
   "outputs": [],
   "source": [
    "syn_long <- read.csv(\"../data/syn_long.csv\", header = TRUE)\n",
    "patient_cells <- list()\n",
    "syn_long$ID <- factor(syn_long$ID)\n",
    "\n",
    "breaks <- seq(0, 24, 4)\n",
    "labels <- c(\"0\\nbaseline\", \"4\\n(post-surgery)\", \"8\", \"12\", \"16\", \"20\", \"24\")\n",
    "\n",
    "# Spaghetti Plots\n",
    "ggplot(data = syn_long,\n",
    "                   aes(Week,\n",
    "                       lurn_si_29_total_score,\n",
    "                       group = ID,\n",
    "                       colour = ID)) +\n",
    "  geom_line(show.legend = FALSE) +\n",
    "  geom_smooth(data = syn_long,\n",
    "              aes(Week,\n",
    "                  lurn_si_29_total_score),\n",
    "              method = \"loess\",\n",
    "    show.legend = FALSE,\n",
    "    se = TRUE,\n",
    "    inherit.aes = FALSE,\n",
    "    color = \"black\") + \n",
    "  scale_y_continuous(\"LURN SI-29 Total\", limits = c(0, 100)) +\n",
    "  scale_x_continuous(breaks = breaks, labels = labels) +\n",
    "  ggtitle(\"Spaghetti plot with loess smoother\")"
   ]
  },
  {
   "cell_type": "code",
   "execution_count": null,
   "metadata": {
    "vscode": {
     "languageId": "r"
    }
   },
   "outputs": [],
   "source": [
    "head(syn_long)"
   ]
  },
  {
   "cell_type": "code",
   "execution_count": null,
   "metadata": {
    "vscode": {
     "languageId": "r"
    }
   },
   "outputs": [],
   "source": [
    "colnames(syn_long)\n",
    "id = 3\n",
    "patient_long <- syn_long[syn_long$ID == id, ]\n",
    "\n",
    "patient_radar_data <- patient_long[c(\"Week\",splom_vars)]\n",
    "patient_radar_data$Week <- as.factor(patient_radar_data$Week)\n",
    "names(patient_radar_data)<- c(\"Time\", \"Total\",\"Incontinence\", \"Pain\", \"Voiding\", \"Urgency\", \"Nocturia\", \"Bother\")\n",
    "# I need to find a way to handle NaN values for the radar plot\n",
    "patient_radar_data[is.na(patient_radar_data)] = 0\n",
    "patient_radar_data "
   ]
  },
  {
   "cell_type": "code",
   "execution_count": null,
   "metadata": {
    "vscode": {
     "languageId": "r"
    }
   },
   "outputs": [],
   "source": [
    "options(jupyter.plot_mimetypes = \"image/png\", repr.plot.width = 7, repr.plot.height = 6., repr.plot.res = 300)\n",
    "\n",
    "ggradar(patient_radar_data, grid.min = 0, grid.mid = 50, grid.max = 100, gridline.mid.colour = \"grey\",\n",
    "        label.gridline.mid = TRUE,\n",
    "        group.colours = viridis(length(patient_radar_data) - 1),\n",
    "        background.circle.transparency = 0,\n",
    "        legend.title = \"Weeks since procedure\", \n",
    "        plot.extent.x.sf = 1.3,\n",
    "        axis.label.size = 3, \n",
    "        grid.label.size = 3,\n",
    "        group.point.size = 2,\n",
    "        group.line.width = 0.5,\n",
    "    ) + \n",
    "    theme(\n",
    "        text = element_text(size = 12), \n",
    "        legend.text = element_text(size = 7),\n",
    "        legend.position = c(0.75, -0.35),  \n",
    "        legend.justification = c(1, 0),\n",
    "        plot.margin = grid::unit(c(-0.2,0,0,0), \"null\")\n",
    "    )  + \n",
    "    guides(color = guide_legend(nrow = 2))"
   ]
  },
  {
   "cell_type": "code",
   "execution_count": null,
   "metadata": {
    "vscode": {
     "languageId": "r"
    }
   },
   "outputs": [],
   "source": [
    "# read in the patient database\n",
    "syn <- read.csv(\"../data/LURN_SI29_Synth_Final_NoFmt.csv\", header = TRUE)\n",
    "names(syn)[names(syn) == \"Sex\"] <- \"SEX\"\n",
    "syn <- score_lurn_si_29(syn)\n",
    "splom_vars <- c(\n",
    "   \"lurn_si_29_total_score\", \"lurn_si_29_incontinence_score\",\n",
    "   \"lurn_si_29_pain_score\", \"lurn_si_29_voiding_score\",\n",
    "   \"lurn_si_29_urgency_score\", \"lurn_si_29_nocturia_score\",\n",
    "   \"lurn_si_29_bother\")\n",
    "\n",
    "# simplified dataframe for plots\n",
    "splom_dat <- syn[c(\"ID\", splom_vars)]\n",
    "names(splom_dat)<- c(\"ID\", \"Total\", \"Incontinence\", \"Pain\", \"Voiding\", \"Urgency\", \"Nocturia\", \"Bother\")\n",
    "\n",
    "# read in the time series file\n",
    "syn_long <- read.csv(\"../data/syn_long.csv\", header = TRUE)\n",
    "patient_cells <- list()\n",
    "syn_long$ID <- factor(syn_long$ID)\n",
    "syn_long_dat <- syn_long[c(\"ID\", \"Week\", splom_vars)]\n",
    "names(syn_long_dat)<- c(\"ID\", \"Week\", \"Total\", \"Incontinence\", \"Pain\", \"Voiding\", \"Urgency\", \"Nocturia\", \"Bother\")"
   ]
  },
  {
   "cell_type": "code",
   "execution_count": null,
   "metadata": {
    "vscode": {
     "languageId": "r"
    }
   },
   "outputs": [],
   "source": [
    "head(syn_long_dat)"
   ]
  },
  {
   "cell_type": "code",
   "execution_count": null,
   "metadata": {
    "vscode": {
     "languageId": "r"
    }
   },
   "outputs": [],
   "source": [
    "line_df_input <- syn_long_dat[c(\"ID\", \"Week\", \"Total\")]\n",
    "line_df_summary <- line_df_input %>%\n",
    "\tgroup_by(Week) %>%\n",
    "\tsummarise(\n",
    "        mean = mean(Total, na.rm = TRUE), \n",
    "        sd = sd(Total, na.rm = TRUE),\n",
    "    )\n",
    "\n",
    "# loess regression\n",
    "span <- 0.75\n",
    "loess_mean <- loess(mean ~ Week, data = line_df_summary, span = span)\n",
    "loess_sd <- loess(sd ~ Week, data = line_df_summary, span = span)\n",
    "\n",
    "# new dataframe to plot\n",
    "Week <- seq(min(line_df_summary$Week), max(line_df_summary$Week), by = 0.1)\n",
    "line_df_plot <- data.frame(Week)\n",
    "line_df_plot$mean <- predict(loess_mean, line_df_plot)\n",
    "line_df_plot$hi <- line_df_plot$mean + predict(loess_sd, line_df_plot)\n",
    "line_df_plot$lo <- line_df_plot$mean - predict(loess_sd, line_df_plot)\n",
    "\n",
    "patient_line_data <- line_df_input[line_df_input$ID == 100, ]\n",
    "patient_line_data$hi <- predict(loess_mean, patient_line_data) + predict(loess_sd, patient_line_data)\n",
    "\n",
    "ggplot(data = line_df_plot, aes(x = Week)) + \n",
    "    geom_ribbon(aes(ymin = lo, ymax = hi), fill = \"lightgray\") +\n",
    "    geom_line(aes(Week, mean), color = \"black\", size = 1.5) + \n",
    "    geom_line(aes(Week, hi), color = \"black\", linetype = \"dashed\", size = 1.5) + \n",
    "    geom_line(aes(Week, lo), color = \"black\", linetype = \"dashed\", size = 1.5)\n",
    "\n"
   ]
  },
  {
   "cell_type": "code",
   "execution_count": null,
   "metadata": {
    "vscode": {
     "languageId": "r"
    }
   },
   "outputs": [],
   "source": [
    "patient_line_data"
   ]
  },
  {
   "cell_type": "code",
   "execution_count": null,
   "metadata": {
    "vscode": {
     "languageId": "r"
    }
   },
   "outputs": [],
   "source": [
    "patient_id <- 100\n",
    "input_params <- list(\n",
    "    patient_id = patient_id, \n",
    "    patient_row = which(splom_dat$ID == patient_id)[1]\n",
    ")\n",
    "input_params"
   ]
  },
  {
   "cell_type": "code",
   "execution_count": null,
   "metadata": {
    "vscode": {
     "languageId": "r"
    }
   },
   "outputs": [],
   "source": [
    "head(splom_dat)"
   ]
  },
  {
   "cell_type": "code",
   "execution_count": null,
   "metadata": {
    "vscode": {
     "languageId": "r"
    }
   },
   "outputs": [],
   "source": [
    "col <- \"Pain\"\n",
    "line_df_input <- syn_long_dat[c(\"ID\", \"Week\", col)]\n",
    "line_df_summary <- line_df_input %>%\n",
    "    group_by(Week) %>%\n",
    "    summarise(\n",
    "        mean = mean(!!sym(col), na.rm = TRUE), \n",
    "        sd = sd(!!sym(col), na.rm = TRUE),\n",
    "    )\n",
    "\n",
    "# loess regression\n",
    "span <- 0.75\n",
    "loess_mean <- loess(mean ~ Week, data = line_df_summary, span = span)\n",
    "loess_sd <- loess(sd ~ Week, data = line_df_summary, span = span)\n",
    "\n",
    "# new dataframe to plot\n",
    "Week <- seq(min(line_df_summary$Week), max(line_df_summary$Week), by = 0.1)\n",
    "line_df_plot <- data.frame(Week)\n",
    "line_df_plot$mean <- predict(loess_mean, line_df_plot)\n",
    "line_df_plot$hi <- pmin(line_df_plot$mean + predict(loess_sd, line_df_plot), 100)\n",
    "line_df_plot$lo <- pmax(line_df_plot$mean - predict(loess_sd, line_df_plot), 0)\n",
    "line_df_plot"
   ]
  },
  {
   "cell_type": "markdown",
   "metadata": {},
   "source": [
    "## bar chart of all the symptons"
   ]
  },
  {
   "cell_type": "code",
   "execution_count": null,
   "metadata": {
    "vscode": {
     "languageId": "r"
    }
   },
   "outputs": [],
   "source": [
    "symptoms <- c(\"Incontinence\", \"Pain\", \"Voiding\", \"Urgency\", \"Nocturia\", \"Bother\", \"Total\")"
   ]
  },
  {
   "cell_type": "code",
   "execution_count": null,
   "metadata": {
    "vscode": {
     "languageId": "r"
    }
   },
   "outputs": [],
   "source": [
    "# Function to rescale a column to a specific range\n",
    "rescale_to_range <- function(x, new_min, new_max) {\n",
    "    scaled <- (x - min(x, na.rm = TRUE))/(max(x, na.rm = TRUE) - min(x, na.rm = TRUE))  # Scale to range [0, 1]\n",
    "    scaled_rescaled <- ifelse(is.na(x), NA, scaled*(new_max - new_min) + new_min)  # Rescale to new range\n",
    "    return(scaled_rescaled)\n",
    "}\n",
    "splom_dat$Bother <- rescale_to_range(splom_dat$Bother, 0, 100)\n",
    "\n",
    "\n",
    "# create a summary for each of the columns for all patients as a comparison\n",
    "df <- select(splom_dat, -ID)\n",
    "summary_df <- data.frame(\n",
    "    Median = apply(df, 2, median),\n",
    "    Percentile_16 = apply(df, 2, function(x) quantile(x, probs = 0.16)),\n",
    "    Percentile_84 = apply(df, 2, function(x) quantile(x, probs = 0.84))\n",
    ")\n",
    "\n",
    "# Add a row for the full 1sigma width\n",
    "summary_df$Width <- summary_df$Percentile_84 - summary_df$Percentile_16\n",
    "\n",
    "# add the symptoms in the correct order\n",
    "summary_df$Symptom <- factor(rownames(summary_df), levels = symptoms)\n",
    "\n",
    "# get the patient data for the bar chart\n",
    "df_patient <- select(splom_dat[input_params$patient_row, ], -ID)\n",
    "p <- as.data.frame(t(df_patient))\n",
    "summary_df$Value <- p[, 1]\n",
    "\n",
    "\n",
    "# Define a custom color palette\n",
    "custom_palette <- c(\"#2780E3\", \"white\", \"#ff7518\")\n",
    "\n",
    "g <- ggplot(summary_df, aes(x = Symptom, y = Value, fill = (Value - Median)/Width)) +\n",
    "    scale_x_discrete(limits = rev(levels(summary_df$Symptom))) +\n",
    "    geom_bar(stat = \"identity\", fill = \"white\", color = \"black\", size = 1.5) + \n",
    "    geom_bar(stat = \"identity\") + \n",
    "    scale_fill_gradient2(\n",
    "        low = custom_palette[1], \n",
    "        mid = custom_palette[2], \n",
    "        high = custom_palette[3],\n",
    "        midpoint = 0, \n",
    "        limits = c(-1, 1),\n",
    "        oob = scales::squish\n",
    "    ) +    \n",
    "    #geom_errorbar(data = summary_df, aes(y = NULL, ymin = Percentile_16, ymax = Percentile_84), width = 0.2, color = \"black\") +\n",
    "    geom_errorbar(data = summary_df, aes(y = NULL, ymin = Median, ymax = Median), width = 0.75, color = \"darkgray\", size = 3) +\n",
    "    # geom_point(data = summary_df, aes(y = Median), size = 3, color = \"black\") + \n",
    "    coord_flip() + \n",
    "    theme_classic() +\n",
    "    guides(fill = guide_colorbar(title.position = \"bottom\",\n",
    "        title.hjust = 0.5,\n",
    "        title.vjust = 0,\n",
    "        label.position = \"bottom\")\n",
    "    ) +  \n",
    "    theme(\n",
    "        legend.position = \"bottom\",           \n",
    "        legend.key.width = unit(2, \"cm\"),\n",
    "        legend.title.align = 0.5,\n",
    "        legend.margin = margin(t = 10)\n",
    "    )    \n",
    "g"
   ]
  },
  {
   "cell_type": "code",
   "execution_count": null,
   "metadata": {
    "vscode": {
     "languageId": "r"
    }
   },
   "outputs": [],
   "source": [
    "Symptom\n",
    "summary_df\n"
   ]
  },
  {
   "cell_type": "markdown",
   "metadata": {},
   "source": [
    "# For the time series, Try creating a \"bubble chart\" \n",
    "\n",
    "where each cell shows a circle for a given symptom in the given week for that patient, this size corresponds to the value, and the color based on a comparison to the median.  Could also show in gray unfilled circles, the medial values."
   ]
  },
  {
   "cell_type": "code",
   "execution_count": null,
   "metadata": {
    "vscode": {
     "languageId": "r"
    }
   },
   "outputs": [],
   "source": [
    "syn_long_dat$Bother <- rescale_to_range(syn_long_dat$Bother, 0, 100)"
   ]
  },
  {
   "cell_type": "code",
   "execution_count": null,
   "metadata": {
    "vscode": {
     "languageId": "r"
    }
   },
   "outputs": [],
   "source": [
    "# there may be a more streamlined way to do this, but I don't know it!\n",
    "median_values <- syn_long_dat %>%\n",
    "    group_by(Week) %>%\n",
    "    summarize(across(-c(ID), median, na.rm = TRUE))\n",
    "median_values_t <- median_values %>%\n",
    "    pivot_longer(cols = -c(Week),\n",
    "        names_to = \"Symptom\",\n",
    "        values_to = \"Median\")\n",
    "\n",
    "Q1_values <- syn_long_dat %>%\n",
    "    group_by(Week) %>%\n",
    "    summarize(across(-c(ID), ~ quantile(., 0.16, na.rm = TRUE)))\n",
    "Q1_values_t <- Q1_values %>%\n",
    "    pivot_longer(cols = -c(Week),\n",
    "        names_to = \"Symptom\",\n",
    "        values_to = \"Q1\")\n",
    "\n",
    "Q3_values <- syn_long_dat %>%\n",
    "    group_by(Week) %>%\n",
    "    summarize(across(-c(ID), ~ quantile(., 0.84, na.rm = TRUE)))\n",
    "Q3_values_t <- Q3_values %>%\n",
    "    pivot_longer(cols = -c(Week),\n",
    "        names_to = \"Symptom\",\n",
    "        values_to = \"Q3\")\n",
    "\n",
    "patient_data <- select(syn_long_dat[syn_long_dat$ID == input_params$patient_id, ], -ID)\n",
    "patient_data_t <- patient_data %>%\n",
    "    pivot_longer(cols = -c(Week),\n",
    "        names_to = \"Symptom\",\n",
    "        values_to = \"Value\")\n",
    "\n",
    "merged_df <- merge(median_values_t, Q1_values_t, by = c(\"Week\", \"Symptom\")) %>%\n",
    "    merge(Q3_values_t, by = c(\"Week\", \"Symptom\")) %>%\n",
    "    merge(patient_data_t, by = c(\"Week\", \"Symptom\"))\n",
    "    \n",
    "# Add a row for the full 1sigma width\n",
    "merged_df$Width <- merged_df$Q3 - merged_df$Q1\n",
    "# don't allow a Width of zero!\n",
    "merged_df$Width [merged_df$Width  == 0] <- 1.\n",
    "\n",
    "# set the symptoms as a factor and in the correct order\n",
    "merged_df$Symptom <- factor(merged_df$Symptom, levels = symptoms)\n",
    "\n",
    "# Define a custom color palette\n",
    "custom_palette <- c(\"#2780E3\", \"white\", \"#ff7518\")\n",
    "\n",
    "breaks <- seq(0, 24, 4)\n",
    "labels <- c(\"0\\n(baseline)\", \"4\", \"8\", \"12\", \"16\", \"20\", \"24\")\n",
    "\n",
    "ggplot(merged_df, aes(x = Week, y = Symptom, size = Value, fill = (Value - Median) / Width)) +\n",
    "    geom_point(shape = 21, color = \"black\", stroke = 1.5) + \n",
    "    scale_fill_gradient2(\n",
    "        low = custom_palette[1], \n",
    "        mid = custom_palette[2], \n",
    "        high = custom_palette[3],\n",
    "        midpoint = 0, \n",
    "        limits = c(-1, 1),\n",
    "        oob = scales::squish\n",
    "    ) +    \n",
    "    geom_point(aes(size = Median), shape = 1, color = \"darkgray\", stroke = 1.) +\n",
    "    # geom_point(aes(size = Q1), shape = 1, color = \"gray\", stroke = 0.5) +\n",
    "    # geom_point(aes(size = Q3), shape = 1, color = \"gray\", stroke = 0.5) +\n",
    "    scale_size(range = c(1, 16), guide = \"none\") + \n",
    "    scale_x_continuous(\"Weeks since procedure\", breaks = breaks, labels = labels) + \n",
    "    expand_limits(x = c(-1, 26)) + \n",
    "    theme_classic() + \n",
    "    guides(fill = guide_colorbar(title.position = \"bottom\",\n",
    "        title.hjust = 0.5,\n",
    "        title.vjust = 0,\n",
    "        label.position = \"bottom\")\n",
    "    ) +  \n",
    "    theme(\n",
    "        legend.position = \"bottom\",           \n",
    "        legend.key.width = unit(2, \"cm\"),\n",
    "        legend.title.align = 0.5,\n",
    "        legend.margin = margin(t = 30)\n",
    "    )   \n"
   ]
  },
  {
   "cell_type": "code",
   "execution_count": null,
   "metadata": {
    "vscode": {
     "languageId": "r"
    }
   },
   "outputs": [],
   "source": [
    "merged_df"
   ]
  },
  {
   "cell_type": "code",
   "execution_count": null,
   "metadata": {
    "vscode": {
     "languageId": "r"
    }
   },
   "outputs": [],
   "source": [
    "params <- list(\n",
    "    patient_id = 100,\n",
    "    patient_week = 0 \n",
    ")\n",
    "\n",
    "# read in the time series file\n",
    "syn_long <- read.csv(\"../data/syn_long.csv\", header = TRUE)\n",
    "patient_cells <- list()\n",
    "syn_long$ID <- factor(syn_long$ID)\n",
    "syn_long_dat <- syn_long[c(\"ID\", \"Week\", splom_vars)]\n",
    "names(syn_long_dat)<- append(c(\"ID\", \"Week\"), symptoms)\n",
    "\n",
    "# grab the appropriate week for the current symptoms plot\n",
    "syn_week <- syn_long[syn_long$Week == params$patient_week, ]\n",
    "syn_week_dat <- syn_long_dat[syn_long_dat$Week == params$patient_week, ]\n",
    "\n",
    "input_params <- list(\n",
    "    patient_id = params$patient_id, \n",
    "    patient_week = params$patient_week, \n",
    "    patient_row = which(syn_week_dat$ID == params$patient_id)[1]\n",
    ")\n",
    "\n",
    "syn_week"
   ]
  },
  {
   "cell_type": "code",
   "execution_count": null,
   "metadata": {
    "vscode": {
     "languageId": "r"
    }
   },
   "outputs": [],
   "source": []
  },
  {
   "cell_type": "code",
   "execution_count": null,
   "metadata": {
    "vscode": {
     "languageId": "r"
    }
   },
   "outputs": [],
   "source": [
    "library(ggforce)\n",
    "\n",
    "# Your data for x and y coordinates (replace with your actual data)\n",
    "x <- c(1, 2, 3, 4, 5)\n",
    "y <- c(10, 15, 20, 25, 30)\n",
    "\n",
    "# Create a data frame for the points\n",
    "df <- data.frame(x = x, y = y)\n",
    "\n",
    "# Plot the points with an open circle and dashed line around it\n",
    "ggplot(df, aes(x0 = x, y0 = y, r = 4)) +\n",
    "  geom_circle(color = \"blue\", linetype = \"dashed\") +  # Open circle with a blue color\n",
    "  theme_minimal()"
   ]
  },
  {
   "cell_type": "code",
   "execution_count": null,
   "metadata": {
    "vscode": {
     "languageId": "r"
    }
   },
   "outputs": [],
   "source": []
  }
 ],
 "metadata": {
  "kernelspec": {
   "display_name": "R",
   "language": "R",
   "name": "ir"
  },
  "language_info": {
   "codemirror_mode": "r",
   "file_extension": ".r",
   "mimetype": "text/x-r-source",
   "name": "R",
   "pygments_lexer": "r",
   "version": "4.2.3"
  },
  "orig_nbformat": 4
 },
 "nbformat": 4,
 "nbformat_minor": 2
}
