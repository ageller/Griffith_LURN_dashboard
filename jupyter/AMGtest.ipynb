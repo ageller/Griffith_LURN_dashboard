{
 "cells": [
  {
   "attachments": {},
   "cell_type": "markdown",
   "metadata": {},
   "source": [
    "# Reproducing Jamie's analysis and testing  figures\n",
    "\n",
    "Some of the code below was written by Jamie Griffith.  I am testing that here.  \n",
    "\n",
    "I am also using this notebook as a testing ground for figures that could be included in the dashboard."
   ]
  },
  {
   "cell_type": "code",
   "execution_count": null,
   "metadata": {
    "vscode": {
     "languageId": "r"
    }
   },
   "outputs": [],
   "source": [
    "library(lurn)\n",
    "library(ggplot2)\n",
    "library(GGally)\n",
    "library(gt)\n",
    "library(ggradar)\n",
    "library(viridis)\n",
    "library(dplyr)\n",
    "library(tidyr)\n",
    "library(cowplot)\n",
    "library(gridExtra)\n",
    "library(magick)\n",
    "library(ggnewscale)\n",
    "library(stringr)\n",
    "library(lubridate)\n",
    "\n",
    "options(jupyter.plot_mimetypes = \"image/png\", repr.plot.width = 7, repr.plot.height = 6., repr.plot.res = 300)"
   ]
  },
  {
   "cell_type": "code",
   "execution_count": null,
   "metadata": {
    "vscode": {
     "languageId": "r"
    }
   },
   "outputs": [],
   "source": [
    "# read in all the data \n",
    "\n",
    "# for renaming columns\n",
    "splom_vars <- c(\n",
    "   \"lurn_si_29_total_score\", \n",
    "   \"lurn_si_29_incontinence_score\",\n",
    "   \"lurn_si_29_pain_score\", \n",
    "   \"lurn_si_29_voiding_score\",\n",
    "   \"lurn_si_29_urgency_score\", \n",
    "   \"lurn_si_29_nocturia_score\",\n",
    "   \"lurn_si_29_bother\")\n",
    "symptoms <- c(\"Total\", \n",
    "    \"Incontinence\", \n",
    "    \"Pain\", \n",
    "    \"Voiding\", \n",
    "    \"Urgency\", \n",
    "    \"Nocturia\", \n",
    "    \"Bother\"\n",
    ")\n",
    "splom_vars <- rev(splom_vars)\n",
    "symptoms <- rev(symptoms)\n",
    "\n",
    "\n",
    "# read in the time series file\n",
    "syn_long <- read.csv(\"../data/syn_long.csv\", header = TRUE)\n",
    "patient_cells <- list()\n",
    "syn_long$ID <- factor(syn_long$ID)\n",
    "syn_long_dat <- syn_long[c(\"ID\", \"Week\", splom_vars)]\n",
    "names(syn_long_dat)<- append(c(\"ID\", \"Week\"), symptoms)\n",
    "\n",
    "\n",
    "# define the input_params (add patient_row)\n",
    "patient_id <- 100\n",
    "patient_week <- 12\n",
    "\n",
    "# grab the appropriate week for the current symptoms plot\n",
    "syn_week <- syn_long[syn_long$Week == patient_week, ]\n",
    "syn_week_dat <- syn_long_dat[syn_long_dat$Week == patient_week, ]\n",
    "\n",
    "input_params <- list(\n",
    "    patient_week = patient_week,\n",
    "    patient_id = patient_id, \n",
    "    patient_row = which(syn_week_dat$ID == patient_id)[1]\n",
    ")\n",
    "\n",
    "# Rescale bother to 0-100\n",
    "syn_week_dat$Bother <- syn_week_dat$Bother/3*100\n",
    "syn_long_dat$Bother <- syn_long_dat$Bother/3*100\n",
    "\n",
    "# # Function to rescale a column to a specific range\n",
    "# # what about NaN??\n",
    "# rescale_to_range <- function(x, new_min, new_max) {\n",
    "#     scaled <- (x - min(x, na.rm = TRUE))/(max(x, na.rm = TRUE) - min(x, na.rm = TRUE))  # Scale to range [0, 1]\n",
    "#     scaled_rescaled <- ifelse(is.na(x), 0, scaled*(new_max - new_min) + new_min)  # Rescale to new range\n",
    "#     return(scaled_rescaled)\n",
    "# }\n",
    "# syn_week_dat$Bother <- rescale_to_range(syn_week_dat$Bother, 0, 100)\n",
    "# syn_long_dat$Bother <- rescale_to_range(syn_long_dat$Bother, 0, 100)\n"
   ]
  },
  {
   "cell_type": "code",
   "execution_count": null,
   "metadata": {
    "vscode": {
     "languageId": "r"
    }
   },
   "outputs": [],
   "source": [
    "syn <- read.csv(\"../data/LURN_SI29_Synth_Final_NoFmt.csv\", header = TRUE)\n",
    "names(syn)[names(syn) == \"Sex\"] <- \"SEX\"\n",
    "syn <- score_lurn_si_29(syn)\n",
    "colnames(syn)"
   ]
  },
  {
   "cell_type": "code",
   "execution_count": null,
   "metadata": {
    "vscode": {
     "languageId": "r"
    }
   },
   "outputs": [],
   "source": [
    "splom_vars <- c(\n",
    "   \"lurn_si_29_total_score\", \"lurn_si_29_incontinence_score\",\n",
    "   \"lurn_si_29_pain_score\", \"lurn_si_29_voiding_score\",\n",
    "   \"lurn_si_29_urgency_score\", \"lurn_si_29_nocturia_score\",\n",
    "   \"lurn_si_29_bother\")\n",
    "\n",
    "splom_dat <- syn[splom_vars]\n",
    "names(splom_dat)<- c(\"Total\",\"Incontinence\", \"Pain\", \"Voiding\", \"Urgency\", \"Nocturia\", \"Bother\")\n",
    "colnames(splom_dat)\n",
    "head(splom_dat)"
   ]
  },
  {
   "cell_type": "code",
   "execution_count": null,
   "metadata": {
    "vscode": {
     "languageId": "r"
    }
   },
   "outputs": [],
   "source": [
    "ggpairs(\n",
    "    splom_dat,\n",
    "    lower = list(continuous = wrap(\"smooth_loess\", alpha = 1 / 10)),\n",
    "    columnLabels = c(\"Total\", \"Incontinence\", \"Pain\", \"Voiding\", \"Urgency\",\n",
    "    \"Nocturia\", \"Bother\"),\n",
    "    title = \"Scatterplot matrix (SPLOM) of LURN SI-29 scales: Synthetic data\"\n",
    ") +\n",
    "theme_bw()"
   ]
  },
  {
   "cell_type": "code",
   "execution_count": null,
   "metadata": {
    "vscode": {
     "languageId": "r"
    }
   },
   "outputs": [],
   "source": [
    "ggplot(splom_dat, aes(x = Voiding)) + geom_density()"
   ]
  },
  {
   "cell_type": "code",
   "execution_count": null,
   "metadata": {
    "vscode": {
     "languageId": "r"
    }
   },
   "outputs": [],
   "source": [
    "si_29_m_nms <- lurn_si_29_names(\"male\")\n",
    "si29_prelim_freq_table <- t(apply(syn[si_29_m_nms],\n",
    "                                  2,\n",
    "                                  function(x) table(factor(x, levels = 0:4),\n",
    "                                                    useNA = \"always\")))\n",
    "\n",
    "si29_prelim_prop_table <- prop.table(si29_prelim_freq_table, margin = 1)\n",
    "\n",
    "colnames(si29_prelim_prop_table) <- c(\"0\", \"1\", \"2\", \"3\", \"4\", \"Missing\")\n",
    "\n",
    "si29_prelim_freq_table"
   ]
  },
  {
   "cell_type": "code",
   "execution_count": null,
   "metadata": {
    "vscode": {
     "languageId": "r"
    }
   },
   "outputs": [],
   "source": [
    "this_patient_row <- syn[100, si_29_m_nms]\n",
    "this_patient_row"
   ]
  },
  {
   "cell_type": "code",
   "execution_count": null,
   "metadata": {
    "vscode": {
     "languageId": "r"
    }
   },
   "outputs": [],
   "source": [
    "syn[, si_29_m_nms[1]]"
   ]
  },
  {
   "cell_type": "code",
   "execution_count": null,
   "metadata": {
    "vscode": {
     "languageId": "r"
    }
   },
   "outputs": [],
   "source": [
    "for (cc in si_29_m_nms){\n",
    "    print(median(syn[, cc], na.rm = TRUE))\n",
    "}"
   ]
  },
  {
   "cell_type": "markdown",
   "metadata": {},
   "source": [
    "## Long file"
   ]
  },
  {
   "cell_type": "markdown",
   "metadata": {},
   "source": [
    "### Spaghetti plot"
   ]
  },
  {
   "cell_type": "code",
   "execution_count": null,
   "metadata": {
    "vscode": {
     "languageId": "r"
    }
   },
   "outputs": [],
   "source": [
    "syn_long <- read.csv(\"../data/syn_long.csv\", header = TRUE)\n",
    "patient_cells <- list()\n",
    "syn_long$ID <- factor(syn_long$ID)\n",
    "\n",
    "breaks <- seq(0, 24, 4)\n",
    "labels <- c(\"0\\nbaseline\", \"4\\n(post-surgery)\", \"8\", \"12\", \"16\", \"20\", \"24\")\n",
    "\n",
    "# Spaghetti Plots\n",
    "ggplot(data = syn_long,\n",
    "                   aes(Week,\n",
    "                       lurn_si_29_total_score,\n",
    "                       group = ID,\n",
    "                       colour = ID)) +\n",
    "  geom_line(show.legend = FALSE) +\n",
    "  geom_smooth(data = syn_long,\n",
    "              aes(Week,\n",
    "                  lurn_si_29_total_score),\n",
    "              method = \"loess\",\n",
    "    show.legend = FALSE,\n",
    "    se = TRUE,\n",
    "    inherit.aes = FALSE,\n",
    "    color = \"black\") + \n",
    "  scale_y_continuous(\"LURN SI-29 Total\", limits = c(0, 100)) +\n",
    "  scale_x_continuous(breaks = breaks, labels = labels) +\n",
    "  ggtitle(\"Spaghetti plot with loess smoother\")"
   ]
  },
  {
   "cell_type": "code",
   "execution_count": null,
   "metadata": {
    "vscode": {
     "languageId": "r"
    }
   },
   "outputs": [],
   "source": [
    "head(syn_long)"
   ]
  },
  {
   "cell_type": "markdown",
   "metadata": {},
   "source": [
    "### radar plot"
   ]
  },
  {
   "cell_type": "code",
   "execution_count": null,
   "metadata": {
    "vscode": {
     "languageId": "r"
    }
   },
   "outputs": [],
   "source": [
    "colnames(syn_long)\n",
    "id = 3\n",
    "patient_long <- syn_long[syn_long$ID == id, ]\n",
    "\n",
    "patient_radar_data <- patient_long[c(\"Week\",splom_vars)]\n",
    "patient_radar_data$Week <- as.factor(patient_radar_data$Week)\n",
    "names(patient_radar_data)<- c(\"Time\", \"Total\",\"Incontinence\", \"Pain\", \"Voiding\", \"Urgency\", \"Nocturia\", \"Bother\")\n",
    "# I need to find a way to handle NaN values for the radar plot\n",
    "patient_radar_data[is.na(patient_radar_data)] = 0\n",
    "patient_radar_data "
   ]
  },
  {
   "cell_type": "code",
   "execution_count": null,
   "metadata": {
    "vscode": {
     "languageId": "r"
    }
   },
   "outputs": [],
   "source": [
    "options(jupyter.plot_mimetypes = \"image/png\", repr.plot.width = 7, repr.plot.height = 6., repr.plot.res = 300)\n",
    "\n",
    "ggradar(patient_radar_data, grid.min = 0, grid.mid = 50, grid.max = 100, gridline.mid.colour = \"grey\",\n",
    "        label.gridline.mid = TRUE,\n",
    "        group.colours = viridis(length(patient_radar_data) - 1),\n",
    "        background.circle.transparency = 0,\n",
    "        legend.title = \"Weeks since procedure\", \n",
    "        plot.extent.x.sf = 1.3,\n",
    "        axis.label.size = 3, \n",
    "        grid.label.size = 3,\n",
    "        group.point.size = 2,\n",
    "        group.line.width = 0.5,\n",
    "    ) + \n",
    "    theme(\n",
    "        text = element_text(size = 12), \n",
    "        legend.text = element_text(size = 7),\n",
    "        legend.position = c(0.75, -0.35),  \n",
    "        legend.justification = c(1, 0),\n",
    "        plot.margin = grid::unit(c(-0.2,0,0,0), \"null\")\n",
    "    )  + \n",
    "    guides(color = guide_legend(nrow = 2))"
   ]
  },
  {
   "cell_type": "code",
   "execution_count": null,
   "metadata": {
    "vscode": {
     "languageId": "r"
    }
   },
   "outputs": [],
   "source": [
    "# read in the patient database\n",
    "syn <- read.csv(\"../data/LURN_SI29_Synth_Final_NoFmt.csv\", header = TRUE)\n",
    "names(syn)[names(syn) == \"Sex\"] <- \"SEX\"\n",
    "syn <- score_lurn_si_29(syn)\n",
    "splom_vars <- c(\n",
    "   \"lurn_si_29_total_score\", \"lurn_si_29_incontinence_score\",\n",
    "   \"lurn_si_29_pain_score\", \"lurn_si_29_voiding_score\",\n",
    "   \"lurn_si_29_urgency_score\", \"lurn_si_29_nocturia_score\",\n",
    "   \"lurn_si_29_bother\")\n",
    "\n",
    "# simplified dataframe for plots\n",
    "splom_dat <- syn[c(\"ID\", splom_vars)]\n",
    "names(splom_dat)<- c(\"ID\", \"Total\", \"Incontinence\", \"Pain\", \"Voiding\", \"Urgency\", \"Nocturia\", \"Bother\")\n",
    "\n",
    "# read in the time series file\n",
    "syn_long <- read.csv(\"../data/syn_long.csv\", header = TRUE)\n",
    "patient_cells <- list()\n",
    "syn_long$ID <- factor(syn_long$ID)\n",
    "syn_long_dat <- syn_long[c(\"ID\", \"Week\", splom_vars)]\n",
    "names(syn_long_dat)<- c(\"ID\", \"Week\", \"Total\", \"Incontinence\", \"Pain\", \"Voiding\", \"Urgency\", \"Nocturia\", \"Bother\")"
   ]
  },
  {
   "cell_type": "code",
   "execution_count": null,
   "metadata": {
    "vscode": {
     "languageId": "r"
    }
   },
   "outputs": [],
   "source": [
    "patient_id <- 100\n",
    "patient_week <- 12\n",
    "input_params <- list(\n",
    "    patient_week = patient_week,\n",
    "    patient_id = patient_id, \n",
    "    patient_row = which(splom_dat$ID == patient_id)[1]\n",
    ")\n",
    "input_params\n",
    "\n",
    "\n",
    "# grab the appropriate week for the current symptoms plot\n",
    "syn_week <- syn_long[syn_long$Week == input_params$patient_week, ]\n",
    "syn_week_dat <- syn_long_dat[syn_long_dat$Week == input_params$patient_week, ]\n"
   ]
  },
  {
   "cell_type": "code",
   "execution_count": null,
   "metadata": {
    "vscode": {
     "languageId": "r"
    }
   },
   "outputs": [],
   "source": [
    "head(syn_long_dat)"
   ]
  },
  {
   "cell_type": "markdown",
   "metadata": {},
   "source": [
    "### line plot with smoothing"
   ]
  },
  {
   "cell_type": "code",
   "execution_count": null,
   "metadata": {
    "vscode": {
     "languageId": "r"
    }
   },
   "outputs": [],
   "source": [
    "line_df_input <- syn_long_dat[c(\"ID\", \"Week\", \"Total\")]\n",
    "line_df_summary <- line_df_input %>%\n",
    "\tgroup_by(Week) %>%\n",
    "\tsummarise(\n",
    "        mean = mean(Total, na.rm = TRUE), \n",
    "        sd = sd(Total, na.rm = TRUE),\n",
    "    )\n",
    "\n",
    "# loess regression\n",
    "span <- 0.75\n",
    "loess_mean <- loess(mean ~ Week, data = line_df_summary, span = span)\n",
    "loess_sd <- loess(sd ~ Week, data = line_df_summary, span = span)\n",
    "\n",
    "# new dataframe to plot\n",
    "Week <- seq(min(line_df_summary$Week), max(line_df_summary$Week), by = 0.1)\n",
    "line_df_plot <- data.frame(Week)\n",
    "line_df_plot$mean <- predict(loess_mean, line_df_plot)\n",
    "line_df_plot$hi <- line_df_plot$mean + predict(loess_sd, line_df_plot)\n",
    "line_df_plot$lo <- line_df_plot$mean - predict(loess_sd, line_df_plot)\n",
    "\n",
    "patient_line_data <- line_df_input[line_df_input$ID == 100, ]\n",
    "patient_line_data$hi <- predict(loess_mean, patient_line_data) + predict(loess_sd, patient_line_data)\n",
    "\n",
    "ggplot(data = line_df_plot, aes(x = Week)) + \n",
    "    geom_ribbon(aes(ymin = lo, ymax = hi), fill = \"lightgray\") +\n",
    "    geom_line(aes(Week, mean), color = \"black\", size = 1.5) + \n",
    "    geom_line(aes(Week, hi), color = \"black\", linetype = \"dashed\", size = 1.5) + \n",
    "    geom_line(aes(Week, lo), color = \"black\", linetype = \"dashed\", size = 1.5)\n",
    "\n"
   ]
  },
  {
   "cell_type": "code",
   "execution_count": null,
   "metadata": {
    "vscode": {
     "languageId": "r"
    }
   },
   "outputs": [],
   "source": [
    "patient_line_data"
   ]
  },
  {
   "cell_type": "code",
   "execution_count": null,
   "metadata": {
    "vscode": {
     "languageId": "r"
    }
   },
   "outputs": [],
   "source": [
    "head(splom_dat)"
   ]
  },
  {
   "cell_type": "code",
   "execution_count": null,
   "metadata": {
    "vscode": {
     "languageId": "r"
    }
   },
   "outputs": [],
   "source": [
    "col <- \"Pain\"\n",
    "line_df_input <- syn_long_dat[c(\"ID\", \"Week\", col)]\n",
    "line_df_summary <- line_df_input %>%\n",
    "    group_by(Week) %>%\n",
    "    summarise(\n",
    "        mean = mean(!!sym(col), na.rm = TRUE), \n",
    "        sd = sd(!!sym(col), na.rm = TRUE),\n",
    "    )\n",
    "\n",
    "# loess regression\n",
    "span <- 0.75\n",
    "loess_mean <- loess(mean ~ Week, data = line_df_summary, span = span)\n",
    "loess_sd <- loess(sd ~ Week, data = line_df_summary, span = span)\n",
    "\n",
    "# new dataframe to plot\n",
    "Week <- seq(min(line_df_summary$Week), max(line_df_summary$Week), by = 0.1)\n",
    "line_df_plot <- data.frame(Week)\n",
    "line_df_plot$mean <- predict(loess_mean, line_df_plot)\n",
    "line_df_plot$hi <- pmin(line_df_plot$mean + predict(loess_sd, line_df_plot), 100)\n",
    "line_df_plot$lo <- pmax(line_df_plot$mean - predict(loess_sd, line_df_plot), 0)\n",
    "line_df_plot"
   ]
  },
  {
   "cell_type": "markdown",
   "metadata": {},
   "source": [
    "## bar chart of all the symptons"
   ]
  },
  {
   "cell_type": "code",
   "execution_count": null,
   "metadata": {
    "vscode": {
     "languageId": "r"
    }
   },
   "outputs": [],
   "source": [
    "symptoms <- c(\"Incontinence\", \"Pain\", \"Voiding\", \"Urgency\", \"Nocturia\", \"Bother\", \"Total\")"
   ]
  },
  {
   "cell_type": "code",
   "execution_count": null,
   "metadata": {
    "vscode": {
     "languageId": "r"
    }
   },
   "outputs": [],
   "source": [
    "# Function to rescale a column to a specific range\n",
    "rescale_to_range <- function(x, new_min, new_max) {\n",
    "    scaled <- (x - min(x, na.rm = TRUE))/(max(x, na.rm = TRUE) - min(x, na.rm = TRUE))  # Scale to range [0, 1]\n",
    "    scaled_rescaled <- ifelse(is.na(x), NA, scaled*(new_max - new_min) + new_min)  # Rescale to new range\n",
    "    return(scaled_rescaled)\n",
    "}\n",
    "splom_dat$Bother <- rescale_to_range(splom_dat$Bother, 0, 100)\n",
    "\n",
    "\n",
    "# create a summary for each of the columns for all patients as a comparison\n",
    "df <- select(splom_dat, -ID)\n",
    "summary_df <- data.frame(\n",
    "    Median = apply(df, 2, median),\n",
    "    Percentile_16 = apply(df, 2, function(x) quantile(x, probs = 0.16)),\n",
    "    Percentile_84 = apply(df, 2, function(x) quantile(x, probs = 0.84))\n",
    ")\n",
    "\n",
    "# Add a row for the full 1sigma width\n",
    "summary_df$Width <- summary_df$Percentile_84 - summary_df$Percentile_16\n",
    "\n",
    "# add the symptoms in the correct order\n",
    "summary_df$Symptom <- factor(rownames(summary_df), levels = symptoms)\n",
    "\n",
    "# get the patient data for the bar chart\n",
    "patient_df <- select(splom_dat[input_params$patient_row, ], -ID)\n",
    "p <- as.data.frame(t(patient_df))\n",
    "summary_df$Value <- p[, 1]\n",
    "\n",
    "\n",
    "# Define a custom color palette\n",
    "custom_palette <- c(\"#2780E3\", \"white\", \"#ff7518\")\n",
    "\n",
    "g <- ggplot(summary_df, aes(x = Symptom, y = Value, fill = (Value - Median)/Width)) +\n",
    "    scale_x_discrete(limits = rev(levels(summary_df$Symptom))) +\n",
    "    geom_bar(stat = \"identity\", fill = \"white\", color = \"black\", size = 1.5) + \n",
    "    geom_bar(stat = \"identity\") + \n",
    "    scale_fill_gradient2(\n",
    "        low = custom_palette[1], \n",
    "        mid = custom_palette[2], \n",
    "        high = custom_palette[3],\n",
    "        midpoint = 0, \n",
    "        limits = c(-1, 1),\n",
    "        oob = scales::squish\n",
    "    ) +    \n",
    "    #geom_errorbar(data = summary_df, aes(y = NULL, ymin = Percentile_16, ymax = Percentile_84), width = 0.2, color = \"black\") +\n",
    "    geom_errorbar(data = summary_df, aes(y = NULL, ymin = Median, ymax = Median), width = 0.75, color = \"darkgray\", size = 3) +\n",
    "    # geom_point(data = summary_df, aes(y = Median), size = 3, color = \"black\") + \n",
    "    coord_flip() + \n",
    "    theme_classic() +\n",
    "    guides(fill = guide_colorbar(title.position = \"bottom\",\n",
    "        title.hjust = 0.5,\n",
    "        title.vjust = 0,\n",
    "        label.position = \"bottom\")\n",
    "    ) +  \n",
    "    theme(\n",
    "        legend.position = \"bottom\",           \n",
    "        legend.key.width = unit(2, \"cm\"),\n",
    "        legend.title.align = 0.5,\n",
    "        legend.margin = margin(t = 10)\n",
    "    )    \n",
    "g"
   ]
  },
  {
   "cell_type": "code",
   "execution_count": null,
   "metadata": {
    "vscode": {
     "languageId": "r"
    }
   },
   "outputs": [],
   "source": [
    "summary_df\n"
   ]
  },
  {
   "cell_type": "markdown",
   "metadata": {},
   "source": [
    "# For the time series, Try creating a \"bubble chart\" \n",
    "\n",
    "where each cell shows a circle for a given symptom in the given week for that patient, this size corresponds to the value, and the color based on a comparison to the median.  Could also show in gray unfilled circles, the medial values."
   ]
  },
  {
   "cell_type": "code",
   "execution_count": null,
   "metadata": {
    "vscode": {
     "languageId": "r"
    }
   },
   "outputs": [],
   "source": [
    "syn_long_dat$Bother <- rescale_to_range(syn_long_dat$Bother, 0, 100)"
   ]
  },
  {
   "cell_type": "code",
   "execution_count": null,
   "metadata": {
    "vscode": {
     "languageId": "r"
    }
   },
   "outputs": [],
   "source": [
    "# there may be a more streamlined way to do this, but I don't know it!\n",
    "median_values <- syn_long_dat %>%\n",
    "    group_by(Week) %>%\n",
    "    summarize(across(-c(ID), median, na.rm = TRUE))\n",
    "median_values_t <- median_values %>%\n",
    "    pivot_longer(cols = -c(Week),\n",
    "        names_to = \"Symptom\",\n",
    "        values_to = \"Median\")\n",
    "\n",
    "Q1_values <- syn_long_dat %>%\n",
    "    group_by(Week) %>%\n",
    "    summarize(across(-c(ID), ~ quantile(., 0.16, na.rm = TRUE)))\n",
    "Q1_values_t <- Q1_values %>%\n",
    "    pivot_longer(cols = -c(Week),\n",
    "        names_to = \"Symptom\",\n",
    "        values_to = \"Q1\")\n",
    "\n",
    "Q3_values <- syn_long_dat %>%\n",
    "    group_by(Week) %>%\n",
    "    summarize(across(-c(ID), ~ quantile(., 0.84, na.rm = TRUE)))\n",
    "Q3_values_t <- Q3_values %>%\n",
    "    pivot_longer(cols = -c(Week),\n",
    "        names_to = \"Symptom\",\n",
    "        values_to = \"Q3\")\n",
    "\n",
    "patient_data <- select(syn_long_dat[syn_long_dat$ID == input_params$patient_id, ], -ID)\n",
    "patient_data_t <- patient_data %>%\n",
    "    pivot_longer(cols = -c(Week),\n",
    "        names_to = \"Symptom\",\n",
    "        values_to = \"Value\")\n",
    "\n",
    "merged_df <- merge(median_values_t, Q1_values_t, by = c(\"Week\", \"Symptom\")) %>%\n",
    "    merge(Q3_values_t, by = c(\"Week\", \"Symptom\")) %>%\n",
    "    merge(patient_data_t, by = c(\"Week\", \"Symptom\"))\n",
    "    \n",
    "# Add a row for the full 1sigma width\n",
    "merged_df$Width <- merged_df$Q3 - merged_df$Q1\n",
    "# don't allow a Width of zero!\n",
    "merged_df$Width [merged_df$Width  == 0] <- 1.\n",
    "\n",
    "# set the symptoms as a factor and in the correct order\n",
    "merged_df$Symptom <- factor(merged_df$Symptom, levels = symptoms)\n",
    "\n",
    "# Define a custom color palette\n",
    "custom_palette <- c(\"#2780E3\", \"white\", \"#ff7518\")\n",
    "\n",
    "breaks <- seq(0, 24, 4)\n",
    "labels <- c(\"0\\n(baseline)\", \"4\", \"8\", \"12\", \"16\", \"20\", \"24\")\n",
    "\n",
    "ggplot(merged_df, aes(x = Week, y = Symptom, size = Value, fill = (Value - Median)/Width)) +\n",
    "    geom_point(shape = 21, color = \"black\", stroke = 1.5) + \n",
    "    scale_fill_gradient2(\n",
    "        low = custom_palette[1], \n",
    "        mid = custom_palette[2], \n",
    "        high = custom_palette[3],\n",
    "        midpoint = 0, \n",
    "        limits = c(-1, 1),\n",
    "        oob = scales::squish\n",
    "    ) +    \n",
    "    geom_point(aes(size = Median), shape = 1, color = \"darkgray\", stroke = 1.) +\n",
    "    # geom_point(aes(size = Q1), shape = 1, color = \"gray\", stroke = 0.5) +\n",
    "    # geom_point(aes(size = Q3), shape = 1, color = \"gray\", stroke = 0.5) +\n",
    "    scale_size(range = c(1, 16), guide = \"none\") + \n",
    "    scale_x_continuous(\"Weeks since procedure\", breaks = breaks, labels = labels) + \n",
    "    expand_limits(x = c(-1, 26)) + \n",
    "    theme_classic() + \n",
    "    guides(fill = guide_colorbar(title.position = \"bottom\",\n",
    "        title.hjust = 0.5,\n",
    "        title.vjust = 0,\n",
    "        label.position = \"bottom\")\n",
    "    ) +  \n",
    "    theme(\n",
    "        legend.position = \"bottom\",           \n",
    "        legend.key.width = unit(2, \"cm\"),\n",
    "        legend.title.align = 0.5,\n",
    "        legend.margin = margin(t = 30)\n",
    "    )   \n"
   ]
  },
  {
   "cell_type": "code",
   "execution_count": null,
   "metadata": {
    "vscode": {
     "languageId": "r"
    }
   },
   "outputs": [],
   "source": [
    "max(syn_long_dat$Incontinence, na.rm = TRUE)\n"
   ]
  },
  {
   "cell_type": "markdown",
   "metadata": {},
   "source": [
    "## Faceted line plot?"
   ]
  },
  {
   "cell_type": "code",
   "execution_count": null,
   "metadata": {
    "vscode": {
     "languageId": "r"
    }
   },
   "outputs": [],
   "source": [
    "# Create the line plot\n",
    "\n",
    "# omit the rows with nan values??\n",
    "merged_df_clean <- na.omit(merged_df)\n",
    "\n",
    "# custom color palette\n",
    "custom_palette <- c(\"#2780E3\", \"white\", \"#ff7518\")\n",
    "\n",
    "# for labelling\n",
    "breaks <- seq(0, 24, 4)\n",
    "labels <- c(\"0\\n(baseline)\", \"4\", \"8\", \"12\", \"16\", \"20\", \"24\")\n",
    "\n",
    "p <- ggplot(merged_df_clean, aes(x = Week, y = Median)) +\n",
    "    geom_line(color = \"darkgray\", linetype = \"dashed\", size = 1.5) +\n",
    "    geom_line(aes(y = Value)) +\n",
    "    geom_point(aes(y = Value, fill = (Value - Median)/Width), shape = 21, color = \"black\", size = 4, stroke = 1.5) + \n",
    "    scale_fill_gradient2(\n",
    "        low = custom_palette[1], \n",
    "        mid = custom_palette[2], \n",
    "        high = custom_palette[3],\n",
    "        midpoint = 0, \n",
    "        limits = c(-1, 1),\n",
    "        oob = scales::squish\n",
    "    ) +   \n",
    "    facet_grid(Symptom ~ ., \n",
    "        scales = \"free_y\", \n",
    "        switch=\"both\"\n",
    "    ) + \n",
    "    scale_x_continuous(\"Weeks since procedure\", breaks = breaks, labels = labels) + \n",
    "    scale_y_continuous(expand = expansion(mult = 0.25)) +\n",
    "    expand_limits(x = c(-1, 26)) + \n",
    "    theme_classic() + \n",
    "    guides(fill = guide_colorbar(title.position = \"bottom\",\n",
    "        title.hjust = 0.5,\n",
    "        title.vjust = 0,\n",
    "        label.position = \"bottom\")\n",
    "    ) +  \n",
    "    theme(\n",
    "        legend.position = \"bottom\",           \n",
    "        legend.key.width = unit(2, \"cm\"),\n",
    "        legend.title.align = 0.5,\n",
    "        legend.margin = margin(t = 30)\n",
    "    )   \n",
    "  \n",
    "p"
   ]
  },
  {
   "cell_type": "code",
   "execution_count": null,
   "metadata": {
    "vscode": {
     "languageId": "r"
    }
   },
   "outputs": [],
   "source": [
    "head(merged_df)"
   ]
  },
  {
   "cell_type": "code",
   "execution_count": null,
   "metadata": {
    "vscode": {
     "languageId": "r"
    }
   },
   "outputs": [],
   "source": [
    "# different circles (not great)\n",
    "# library(ggforce)\n",
    "\n",
    "# # Your data for x and y coordinates (replace with your actual data)\n",
    "# x <- c(1, 2, 3, 4, 5)\n",
    "# y <- c(10, 15, 20, 25, 30)\n",
    "\n",
    "# # Create a data frame for the points\n",
    "# df <- data.frame(x = x, y = y)\n",
    "\n",
    "# # Plot the points with an open circle and dashed line around it\n",
    "# ggplot(df, aes(x0 = x, y0 = y, r = 4)) +\n",
    "#   geom_circle(color = \"blue\", linetype = \"dashed\") +  # Open circle with a blue color\n",
    "#   theme_minimal()"
   ]
  },
  {
   "cell_type": "markdown",
   "metadata": {},
   "source": [
    "## Jamie's new table"
   ]
  },
  {
   "cell_type": "code",
   "execution_count": null,
   "metadata": {
    "vscode": {
     "languageId": "r"
    }
   },
   "outputs": [],
   "source": [
    "    # the questions\n",
    "    q_vec <- c(\"Loss of bladder Control\",\n",
    "        \"Urine leakage\",\n",
    "        \"Urine leakage from laughing, coughing, etc.\",\n",
    "        \"Urine leakage during activities\",\n",
    "        \"Urine leakage from walking\",\n",
    "        \"Urine leakage at night\",\n",
    "        \"Pain/discomfort with bladder filling\",\n",
    "        \"Pain/discomfort with full bladder\", \n",
    "        \"Pain/discomfort during Urination\",\n",
    "        \"Pain/discomfort after urination\",\n",
    "        \"Need to push for Urination\",\n",
    "        \"Delay in urination\",\n",
    "        \"Repeated stops in urine flow\",\n",
    "        \"Slow/Weak urine flow\",\n",
    "        \"Trickle/dribble after urination\",\n",
    "        \"Sudden need to urinate\",\n",
    "        \"Sudden need to urinate with potential leakage\",\n",
    "        \"How difficult was it to wait more than a few minutes?\",\n",
    "        \"Times awakened to urinate per night\",\n",
    "        \"Frequency of nights awakened to urinate\",\n",
    "        \"Number of daytime urinations\",\n",
    "        \"Time between daytime urinations\",\n",
    "        \"Strength of nighttime urge to urinate\",\n",
    "        \"Constant need to urinate\",\n",
    "        \"Bladder not empty after urination\",\n",
    "        \"Urine dribble after voiding\",\n",
    "        \"Splitting/spraying of urine stream\",\n",
    "        \"Bothered from urinary symptoms\")\n",
    "\n",
    "\n",
    "    # create the legend\n",
    "    legend_dat <- data.frame(t(seq(0, 1, .2)))\n",
    "    names(legend_dat) <- paste0(seq(0, 100, 20), \"%\")\n",
    "    legend <- gt(legend_dat) %>%\n",
    "        data_color(method = \"numeric\",\n",
    "            palette = c(\"Greys\"),\n",
    "            domain = c(0, 1)) %>%\n",
    "        fmt_number(pattern = \"\") %>%\n",
    "        tab_header(title = \"Legend\") %>%\n",
    "        opt_table_font(font = \"Helvetica\")\n",
    "    # temp_fname <- tempfile(\"legend\", fileext = \".png\")\n",
    "    # gtsave(legend, temp_fname, expand = 10)\n",
    "\n",
    "    # select the columns that we care about\n",
    "    si_29_m_nms <- lurn_si_29_names(\"male\")\n",
    "\n",
    "    # create a table for this particular patient\n",
    "    this_patient_row <- syn_week[input_params$patient_row, si_29_m_nms]\n",
    "\n",
    "    # calculate the frequencies\n",
    "    si29_prelim_freq_table <- t(apply(syn_week[si_29_m_nms], 2,\n",
    "        function(x) table(factor(x, levels = 0:4), useNA = \"always\")))\n",
    "\n",
    "    si29_prelim_prop_table <- prop.table(si29_prelim_freq_table, margin = 1)\n",
    "\n",
    "    colnames(si29_prelim_prop_table) <- c(\"0\", \"1\", \"2\", \"3\", \"4\", \"Missing\")\n",
    "\n",
    "\n",
    "    si29_prop_table_v3 <- cbind(`Question: Short description` = q_vec,\n",
    "                            as.data.frame(si29_prelim_prop_table))\n",
    "\n",
    "    si29_item_table_v3 <- si29_prop_table_v3 %>%\n",
    "    gt(rownames_to_stub = TRUE) %>%\n",
    "    tab_stubhead(label = md(\"**LURN SI-29 Item**\")) %>%\n",
    "    tab_spanner(\n",
    "        label = \"Response options (0-4): Higher numbers mean higher severity\",\n",
    "        columns = c(\"0\", \"1\", \"2\", \"3\", \"4\", \"Missing\")) %>%\n",
    "    tab_options(table.background.color = \"white\") %>%\n",
    "    data_color(\n",
    "        columns = c(\"0\", \"1\", \"2\", \"3\", \"4\", \"Missing\"),\n",
    "        method = \"numeric\",\n",
    "        palette = c(\"Blues\"),\n",
    "        domain = c(0, 1)) %>%\n",
    "    fmt_number(\n",
    "        columns = c(\"0\", \"1\", \"2\", \"3\", \"4\", \"Missing\"),\n",
    "        decimals = 0,\n",
    "        scale_by = 100,\n",
    "        pattern = \"{x}%\") %>%\n",
    "    fmt_number(\n",
    "        rows = c(19, 21, 23, 28),\n",
    "        columns = \"4\",\n",
    "        pattern = \"\") %>%\n",
    "    fmt_number(\n",
    "        rows = 24,\n",
    "        columns = c(\"2\", \"3\", \"4\"),\n",
    "        pattern = \"\") %>%\n",
    "    cols_width(\n",
    "        everything() ~ px(80)) %>%\n",
    "    cols_width(\n",
    "        1 ~ px(150)) %>%\n",
    "    cols_width(\n",
    "        2 ~ px(300)) %>%\n",
    "    cols_width(\n",
    "        8 ~ px(100)) %>%\n",
    "    tab_header(title = md(\n",
    "        \"**Figure 1: LURN SI-29: Percentages of response values**\"),\n",
    "        subtitle = \n",
    "        \"Synthetic data: Darker blue corresponds to higher percentages\") %>%\n",
    "    # tab_footnote(html(local_image(temp_fname, height = 75))) %>%\n",
    "    tab_footnote(footnote = \n",
    "        \"For items SI29_Q19, SI29_Q21, SI29_Q23, SI29_Q24, and SI29_Q28, blank cells are not possible response values\") %>%\n",
    "    tab_source_note(source_note = paste0(\"Data are synthetic for testing and simulation purposes. N = \",  length(syn_week$ID))) %>%\n",
    "    opt_table_font(font = \"Helvetica\") %>%\n",
    "    tab_row_group(label = md(\"**Section F: Additional symptoms and bother**\"),\n",
    "                    rows = c(\"SI29_Q21\", \"SI29_Q22\", \"SI29_Q23\", \"SI29_Q24\",\n",
    "                            \"SI29_Q25\", \"SI29_Q26\", \"SI29_Q27b\",\n",
    "                            \"SI29_Q28\")) %>%\n",
    "    tab_row_group(label = md(\"**Section E: Nocturia**\"),\n",
    "                    rows = c(\"SI29_Q19\", \"SI29_Q20\")) %>% \n",
    "    tab_row_group(label = md(\"**Section D: Urgency**\"),\n",
    "                    rows = c(\"SI29_Q16\", \"SI29_Q17\", \"SI29_Q18\")) %>%\n",
    "    tab_row_group(label = md(\"**Section C: Voiding difficulty**\"),\n",
    "                    rows = c(\"SI29_Q11\", \"SI29_Q12\", \"SI29_Q13\",\n",
    "                            \"SI29_Q14\", \"SI29_Q15\")) %>%\n",
    "    tab_row_group(label = md(\"**Section B: Pain**\"),\n",
    "                    rows = c(\"SI29_Q7\", \"SI29_Q8\", \"SI29_Q9\", \"SI29_Q10\")) %>%\n",
    "    tab_row_group(label = md(\"**Section A: Incontinence**\"),\n",
    "                    rows = c(\"SI29_Q1\", \"SI29_Q2\", \"SI29_Q3\",\n",
    "                            \"SI29_Q4\", \"SI29_Q5\", \"SI29_Q6\")) %>%\n",
    "    cols_label(`Question: Short description` = \n",
    "                md(\"**Question: Short description**\"))"
   ]
  },
  {
   "cell_type": "code",
   "execution_count": null,
   "metadata": {
    "vscode": {
     "languageId": "r"
    }
   },
   "outputs": [],
   "source": [
    "syn_week_dat[syn_week_dat$ID == 100, ]"
   ]
  },
  {
   "cell_type": "code",
   "execution_count": null,
   "metadata": {
    "vscode": {
     "languageId": "r"
    }
   },
   "outputs": [],
   "source": [
    "syn_long <- read.csv(\"../data/syn_long.csv\", header = TRUE)\n",
    "syn_long_dat[syn_long_dat$Week == 12, ]"
   ]
  },
  {
   "cell_type": "code",
   "execution_count": null,
   "metadata": {
    "vscode": {
     "languageId": "r"
    }
   },
   "outputs": [],
   "source": [
    "patient_id <- 100\n",
    "patient_week <- 16\n",
    "\n",
    "\n",
    "\n",
    "# for renaming columns\n",
    "splom_vars <- c(\n",
    "   \"lurn_si_29_total_score\", \n",
    "   \"lurn_si_29_incontinence_score\",\n",
    "   \"lurn_si_29_pain_score\", \n",
    "   \"lurn_si_29_voiding_score\",\n",
    "   \"lurn_si_29_urgency_score\", \n",
    "   \"lurn_si_29_nocturia_score\",\n",
    "   \"lurn_si_29_bother\")\n",
    "symptoms <- c(\"Total\", \n",
    "    \"Incontinence\", \n",
    "    \"Pain\", \n",
    "    \"Voiding\", \n",
    "    \"Urgency\", \n",
    "    \"Nocturia\", \n",
    "    \"Bother\"\n",
    ")\n",
    "splom_vars <- rev(splom_vars)\n",
    "symptoms <- rev(symptoms)\n",
    "\n",
    "\n",
    "# read in the time series file\n",
    "syn_long <- read.csv(\"../data/syn_long.csv\", header = TRUE)\n",
    "patient_cells <- list()\n",
    "syn_long$ID <- factor(syn_long$ID)\n",
    "syn_long_dat <- syn_long[c(\"ID\", \"Week\", splom_vars)]\n",
    "names(syn_long_dat)<- append(c(\"ID\", \"Week\"), symptoms)\n",
    "\n",
    "# grab the appropriate week for the current symptoms plot\n",
    "syn_week <- syn_long[syn_long$Week == patient_week, ]\n",
    "syn_week_dat <- syn_long_dat[syn_long_dat$Week == patient_week, ]\n",
    "\n",
    "input_params <- list(\n",
    "    patient_id = patient_id, \n",
    "    patient_week = patient_week, \n",
    "    patient_row = which(syn_week_dat$ID == patient_id)[1]\n",
    ")\n",
    "\n",
    "\n",
    "# create a summary for each of the columns for all patients as a comparison\n",
    "    df <- select(syn_week_dat, -c(ID, Week))\n",
    "    summary_df <- data.frame(\n",
    "        Median = apply(df, 2, median, na.rm = TRUE),\n",
    "        Percentile_16 = apply(df, 2, function(x) quantile(x, probs = 0.16, na.rm = TRUE)),\n",
    "        Percentile_84 = apply(df, 2, function(x) quantile(x, probs = 0.84, na.rm = TRUE))\n",
    "    )\n",
    "\n",
    "    # Add a row for the full 1sigma width\n",
    "    summary_df$Width <- summary_df$Percentile_84 - summary_df$Percentile_16\n",
    "\n",
    "    # what should we do if width == 0??\n",
    "    summary_df$Width[summary_df$Width == 0] <- 1.\n",
    "\n",
    "    # add the symptoms in the correct order\n",
    "    summary_df$Symptom <- factor(rownames(summary_df), levels = symptoms)\n",
    "\n",
    "    # get the patient data for the bar chart\n",
    "    patient_df <- select(syn_week_dat[input_params$patient_row, ], -c(ID, Week))\n",
    "    p <- as.data.frame(t(patient_df))\n",
    "    summary_df$Value <- p[, 1]\n",
    "\n",
    "    # Define a custom color palette\n",
    "    custom_palette <- c(\"#2780E3\", \"white\", \"#ff7518\")\n",
    "\n",
    "    g <- ggplot(summary_df, aes(x = Symptom, y = Value, fill = (Value - Median)/Width)) +\n",
    "        scale_x_discrete(limits = rev(levels(summary_df$Symptom))) +\n",
    "        geom_bar(stat = \"identity\", fill = \"white\", color = \"black\", size = 1.5) + \n",
    "        geom_bar(stat = \"identity\") + \n",
    "        scale_fill_gradient2(\n",
    "            low = custom_palette[1], \n",
    "            mid = custom_palette[2], \n",
    "            high = custom_palette[3],\n",
    "            midpoint = 0, \n",
    "            limits = c(-1,1),\n",
    "            oob = scales::squish\n",
    "        ) +    \n",
    "        #geom_errorbar(data = summary_df, aes(y = NULL, ymin = Percentile_16, ymax = Percentile_84), width = 0.2, color = \"black\") +\n",
    "        geom_errorbar(data = summary_df, aes(y = NULL, ymin = Median, ymax = Median), width = 0.75, color = \"darkgray\", size = 3) +\n",
    "        # geom_point(data = summary_df, aes(y = Median), size = 3, color = \"black\") + \n",
    "        geom_vline(xintercept = 1.5, linetype = \"dotted\") + \n",
    "        coord_flip() + \n",
    "        theme_classic() + \n",
    "        guides(fill = guide_colorbar(title.position = \"bottom\",\n",
    "            title.hjust = 0.5,\n",
    "            title.vjust = 0,\n",
    "            label.position = \"bottom\")\n",
    "        ) +  \n",
    "        theme(\n",
    "            legend.position = \"bottom\",           \n",
    "            legend.key.width = unit(2, \"cm\"),\n",
    "            legend.title.align = 0.5,\n",
    "            legend.margin = margin(t = 50),\n",
    "            text = element_text(size = 20),\n",
    "        )    \n",
    "g"
   ]
  },
  {
   "cell_type": "code",
   "execution_count": null,
   "metadata": {
    "vscode": {
     "languageId": "r"
    }
   },
   "outputs": [],
   "source": [
    "summary_df"
   ]
  },
  {
   "cell_type": "code",
   "execution_count": null,
   "metadata": {
    "vscode": {
     "languageId": "r"
    }
   },
   "outputs": [],
   "source": [
    "patient_df"
   ]
  },
  {
   "cell_type": "markdown",
   "metadata": {},
   "source": [
    "# Combined line and bar chart"
   ]
  },
  {
   "cell_type": "markdown",
   "metadata": {},
   "source": [
    "## time series on right"
   ]
  },
  {
   "cell_type": "code",
   "execution_count": null,
   "metadata": {
    "vscode": {
     "languageId": "r"
    }
   },
   "outputs": [],
   "source": [
    "# synthetic data\n",
    "\n",
    "patient_id <- 100\n",
    "patient_week <- 12\n",
    "input_params <- list(\n",
    "    patient_id = patient_id, \n",
    "    patient_week = patient_week, \n",
    "    patient_row = which(syn_week_dat$ID == patient_id)[1]\n",
    ")\n",
    "\n",
    "bar_chart <- create_current_week_summary_bar_chart(syn_week_dat)\n",
    "line_plot <- create_time_series_line_plot(syn_long_dat)\n",
    "\n",
    "g <- plot_grid(bar_chart, line_plot$plot, ncol = 2, align = \"h\", rel_widths = c(0.49,0.51), axis = \"l\")\n",
    "p <- plot_grid(g, line_plot$legend, ncol = 1, rel_heights = c(1, 0.2))\n",
    "\n",
    "\n",
    "# save the image and then read it back in so that I can annotate it more easily and have consistent sizing!\n",
    "tmp <- tempfile(\"image0\", fileext = \".png\")\n",
    "ggsave(tmp, p, width = 12, height = 8)\n",
    "img <- image_read(tmp)\n",
    "\n",
    "\n",
    "img <- annotate_img(img, \"#a200aa\")\n",
    "image_trim(img)\n",
    "\n"
   ]
  },
  {
   "cell_type": "markdown",
   "metadata": {},
   "source": [
    "## time series on left"
   ]
  },
  {
   "cell_type": "code",
   "execution_count": null,
   "metadata": {
    "vscode": {
     "languageId": "r"
    }
   },
   "outputs": [],
   "source": [
    "create_current_week_summary_bar_chart <- function(){\n",
    "\n",
    "    # create a summary for each of the columns for all patients as a comparison\n",
    "    df <- select(syn_week_dat, -c(ID, Week))\n",
    "    summary_df <- data.frame(\n",
    "        Median = apply(df, 2, median, na.rm = TRUE),\n",
    "        Percentile_16 = apply(df, 2, function(x) quantile(x, probs = 0.16, na.rm = TRUE)),\n",
    "        Percentile_84 = apply(df, 2, function(x) quantile(x, probs = 0.84, na.rm = TRUE))\n",
    "    )\n",
    "\n",
    "    # Add a row for the full 1sigma width\n",
    "    summary_df$Width <- summary_df$Percentile_84 - summary_df$Percentile_16\n",
    "\n",
    "    # what should we do if width == 0??\n",
    "    summary_df$Width[summary_df$Width == 0] <- 1.\n",
    "\n",
    "    # add the symptoms in the correct order\n",
    "    summary_df$Symptom <- factor(rownames(summary_df), levels = symptoms)\n",
    "\n",
    "    # get the patient data for the bar chart\n",
    "    patient_df <- select(syn_week_dat[input_params$patient_row, ], -c(ID, Week))\n",
    "    p <- as.data.frame(t(patient_df))\n",
    "    summary_df$Value <- p[, 1]\n",
    "\n",
    "    # Define a custom color palette\n",
    "    custom_palette <- c(\"#2780E3\", \"white\", \"#ff7518\")\n",
    "\n",
    "    # for labelling (so that I can match the size of the other plot)\n",
    "    breaks <- seq(0, 100, 20)\n",
    "    labels <- c(\"0\\n\", \"20\", \"40\", \"60\", \"80\", \"100\")\n",
    "\n",
    "    # separate the Total\n",
    "    panel_spacing <- rep(0, length(symptoms) - 1)\n",
    "    panel_spacing[length(panel_spacing)] <- 1\n",
    "\n",
    "    g <- ggplot(summary_df, aes(x = Symptom, y = Value, fill = (Value - Median)/Width)) +\n",
    "        # scale_x_discrete(limits = rev(levels(summary_df$Symptom)), labels = rep(\"\", length(symptoms))) +\n",
    "        scale_y_continuous(\"Current Value\", breaks = breaks, labels = labels, expand = expansion(mult = c(0, 0.05))) +\n",
    "        geom_bar(stat = \"identity\", fill = \"white\", color = \"black\", size = 1.5) + \n",
    "        geom_bar(stat = \"identity\") + \n",
    "        scale_fill_gradient2(\n",
    "            low = custom_palette[1], \n",
    "            mid = custom_palette[2], \n",
    "            high = custom_palette[3],\n",
    "            midpoint = 0, \n",
    "            limits = c(-1,1),\n",
    "            oob = scales::squish\n",
    "        ) +    \n",
    "        geom_errorbar(aes(y = NULL, ymin = Median, ymax = Median), width = 0.75, color = \"darkgray\", size = 3) +\n",
    "        # geom_vline(xintercept = 1.5, linetype = \"dotted\") + \n",
    "        geom_vline(xintercept = 0.4) + \n",
    "        # geom_vline(xintercept = 1.6) + \n",
    "        facet_grid(Symptom ~ ., \n",
    "            scales = \"free_y\", \n",
    "            switch = \"both\",\n",
    "        ) + \n",
    "        coord_flip() + \n",
    "        xlab(\"\") + \n",
    "        guides(fill = FALSE) +\n",
    "        theme_classic() +\n",
    "        theme(\n",
    "            plot.margin = margin(0.25, 0.25, 0.25, 0.1, \"cm\"),\n",
    "            panel.spacing = unit(panel_spacing, \"lines\"),\n",
    "            strip.text = element_text(size = 0, margin = margin(0,0,0,0)),\n",
    "            axis.title.y = element_blank(),\n",
    "            axis.text.y = element_blank(),\n",
    "            axis.ticks.y = element_blank()\n",
    "        )\n",
    "\n",
    "\n",
    "    return(g)\n",
    "}\n",
    "\n",
    "create_time_series_line_plot <- function(){\n",
    "\n",
    "    # there may be a more streamlined way to do this, but I don't know it!\n",
    "    median_values <- syn_long_dat %>%\n",
    "        group_by(Week) %>%\n",
    "        summarize(across(-c(ID), median, na.rm = TRUE))\n",
    "    median_values_t <- median_values %>%\n",
    "        pivot_longer(cols = -c(Week),\n",
    "            names_to = \"Symptom\",\n",
    "            values_to = \"Median\")\n",
    "\n",
    "    Q1_values <- syn_long_dat %>%\n",
    "        group_by(Week) %>%\n",
    "        summarize(across(-c(ID), ~ quantile(., 0.16, na.rm = TRUE)))\n",
    "    Q1_values_t <- Q1_values %>%\n",
    "        pivot_longer(cols = -c(Week),\n",
    "            names_to = \"Symptom\",\n",
    "            values_to = \"Q1\")\n",
    "\n",
    "    Q3_values <- syn_long_dat %>%\n",
    "        group_by(Week) %>%\n",
    "        summarize(across(-c(ID), ~ quantile(., 0.84, na.rm = TRUE)))\n",
    "    Q3_values_t <- Q3_values %>%\n",
    "        pivot_longer(cols = -c(Week),\n",
    "            names_to = \"Symptom\",\n",
    "            values_to = \"Q3\")\n",
    "\n",
    "    patient_data <- select(syn_long_dat[syn_long_dat$ID == input_params$patient_id, ], -ID)\n",
    "    patient_data_t <- patient_data %>%\n",
    "        pivot_longer(cols = -c(Week),\n",
    "            names_to = \"Symptom\",\n",
    "            values_to = \"Value\")\n",
    "\n",
    "    merged_df <- merge(median_values_t, Q1_values_t, by = c(\"Week\", \"Symptom\")) %>%\n",
    "        merge(Q3_values_t, by = c(\"Week\", \"Symptom\")) %>%\n",
    "        merge(patient_data_t, by = c(\"Week\", \"Symptom\"))\n",
    "        \n",
    "\n",
    "    # Add a row for the full 1sigma width\n",
    "    merged_df$Width <- merged_df$Q3 - merged_df$Q1\n",
    "    # what should I do with width == 0 ??!!\n",
    "    merged_df$Width[merged_df$Width == 0] <- 1.\n",
    "\n",
    "    # set the symptoms as a factor and in the correct order\n",
    "    merged_df$Symptom <- factor(merged_df$Symptom, levels = symptoms)\n",
    "\n",
    "    # omit the rows with nan values??\n",
    "    merged_df_clean_limit_week <- na.omit(merged_df[merged_df$Week <= input_params$patient_week, ])\n",
    "\n",
    "    # custom color palette\n",
    "    custom_palette <- c(\"#2780E3\", \"white\", \"#ff7518\")\n",
    "\n",
    "    # for labelling\n",
    "    breaks <- seq(0, 24, 4)\n",
    "    labels <- c(\"0\\n(baseline)\", \"4\", \"8\", \"12\", \"16\", \"20\", \"24\")\n",
    "\n",
    "    # separate the Total\n",
    "    panel_spacing <- rep(0, length(symptoms) - 1)\n",
    "    panel_spacing[length(panel_spacing)] <- 1\n",
    "\n",
    "    # function to calculate custom breaks\n",
    "    custom_breaks <- function(data, n_breaks = 4, tol = 0.5) {\n",
    "        # Calculate breaks based on data range\n",
    "        min_value <- min(data)\n",
    "        max_value <- max(data)\n",
    "        breaks <- pretty(c(min_value, max_value), n = n_breaks)\n",
    "        diff <- breaks[2] - breaks[1]\n",
    "        top_diff <- max_value - breaks[length(breaks)]\n",
    "        if (abs(top_diff/diff) > tol) {\n",
    "            breaks <- breaks[1:(length(breaks) - 1)]\n",
    "            if (top_diff < 0){\n",
    "                breaks <- breaks[1:(length(breaks) - 1)]\n",
    "            }\n",
    "        }\n",
    "        return(breaks)\n",
    "    }\n",
    "\n",
    "    g <- ggplot(merged_df, aes(x = Week, y = Median)) +\n",
    "        geom_line(color = \"darkgray\", linetype = \"dashed\", size = 1.5) +\n",
    "        geom_line(data = merged_df_clean_limit_week, aes(y = Value)) +\n",
    "        geom_point(data = merged_df_clean_limit_week, aes(y = Value, fill = (Value - Median)/Width), shape = 21, color = \"black\", size = 4, stroke = 1.5) + \n",
    "        scale_fill_gradient2(\n",
    "            low = custom_palette[1], \n",
    "            mid = custom_palette[2], \n",
    "            high = custom_palette[3],\n",
    "            midpoint = 0, \n",
    "            limits = c(-1, 1),\n",
    "            oob = scales::squish\n",
    "        ) +   \n",
    "        geom_hline(yintercept = 0) + \n",
    "        facet_grid(Symptom ~ ., \n",
    "            scales = \"free_y\", \n",
    "            switch = \"both\",\n",
    "        ) + \n",
    "        scale_x_continuous(\"Weeks since procedure\", breaks = breaks, labels = labels) + \n",
    "        scale_y_continuous(expand = expansion(mult = c(0, 0.25)),\n",
    "            breaks = function(x) {\n",
    "                return(custom_breaks(x))\n",
    "            },\n",
    "        ) +\n",
    "        expand_limits(x = c(-1, 26)) + \n",
    "        ylab(\"\") + \n",
    "        guides(fill = FALSE) +\n",
    "        theme_classic() + \n",
    "        theme(\n",
    "            # strip.text = element_text(size = 0, margin = margin(0,0,0,0)),\n",
    "            plot.margin = margin(0.25, 0, 0.25, 0.25, \"cm\"),\n",
    "            panel.spacing = unit(panel_spacing, \"lines\")\n",
    "        ) \n",
    "\n",
    "    # create another plot just for the legend (not sure there's a simpler way to do this!)\n",
    "    g_legend <- ggplot(merged_df, aes(x = Week, y = Median)) +\n",
    "        geom_line(color = \"darkgray\", linetype = \"dashed\", linewidth = 1.5) +\n",
    "        geom_line(data = merged_df_clean_limit_week, aes(y = Value)) +\n",
    "        geom_point(data = merged_df_clean_limit_week, aes(y = Value, fill = (Value - Median)/Width), shape = 21, color = \"black\", size = 4, stroke = 1.5) + \n",
    "        scale_fill_gradient2(\n",
    "            low = custom_palette[1], \n",
    "            mid = custom_palette[2], \n",
    "            high = custom_palette[3],\n",
    "            midpoint = 0, \n",
    "            limits = c(-1, 1),\n",
    "            oob = scales::squish\n",
    "        ) +    \n",
    "         guides(\n",
    "            fill = guide_colorbar(\n",
    "                title = \"Scaled offset from median of reference population\",\n",
    "                title.position = \"bottom\",\n",
    "                title.hjust = 0.5,\n",
    "                title.vjust = 0,\n",
    "                label.position = \"bottom\"\n",
    "            )\n",
    "        ) + \n",
    "        theme_classic() + \n",
    "        theme(\n",
    "            legend.position = \"bottom\",           \n",
    "            legend.key.width = unit(2, \"cm\"),\n",
    "            legend.title.align = 0.5,\n",
    "            legend.margin = margin(margin(10,0,0,0,\"cm\")),\n",
    "            legend.title = element_text(size = 9), \n",
    "            legend.text = element_text(size = 8, color = \"#555555\")\n",
    "        )   \n",
    "\n",
    "\n",
    "    legend <- cowplot::get_legend(g_legend)\n",
    "\n",
    "    return(\n",
    "        list(\n",
    "            \"plot\" = g,\n",
    "            \"legend\" = legend\n",
    "        )\n",
    "    )\n",
    "}\n",
    "\n",
    "\n",
    "\n",
    "patient_id <- 100\n",
    "patient_week <- 16\n",
    "input_params <- list(\n",
    "    patient_id = patient_id, \n",
    "    patient_week = patient_week, \n",
    "    patient_row = which(syn_week_dat$ID == patient_id)[1]\n",
    ")\n",
    "\n",
    "syn_week_dat$Bother <- rescale_to_range(syn_week_dat$Bother, 0, 100)\n",
    "syn_long_dat$Bother <- rescale_to_range(syn_long_dat$Bother, 0, 100)\n",
    "\n",
    "bar_chart <- create_current_week_summary_bar_chart()\n",
    "line_plot <- create_time_series_line_plot()\n",
    "\n",
    "g <- plot_grid(line_plot$plot, bar_chart,  ncol = 2, align = \"h\", rel_widths = c(0.55,0.45), axis = \"l\")\n",
    "plot_grid(g, line_plot$legend, ncol = 1, rel_heights = c(1, 0.2))\n"
   ]
  },
  {
   "cell_type": "markdown",
   "metadata": {},
   "source": [
    "## Working with the real data\n",
    "\n",
    "Starting with Jamie's code"
   ]
  },
  {
   "cell_type": "code",
   "execution_count": null,
   "metadata": {
    "vscode": {
     "languageId": "r"
    }
   },
   "outputs": [],
   "source": [
    "\n",
    "#Rscript -e \"rmarkdown::render('SI-29_dashboard.Rmd', params = list(patient_id = 'EH22-021-002', patient_week = 12))\"\n",
    "\n",
    "patient_id <- \"EH22-021-002\"\n",
    "patient_week <- 12\n",
    "study_arm <- \"arm_1\"\n",
    "\n",
    "# for renaming columns\n",
    "splom_vars <- c(\n",
    "   \"lurn_si_29_total_score\", \n",
    "   \"lurn_si_29_incontinence_score\",\n",
    "   \"lurn_si_29_pain_score\", \n",
    "   \"lurn_si_29_voiding_score\",\n",
    "   \"lurn_si_29_urgency_score\", \n",
    "   \"lurn_si_29_nocturia_score\",\n",
    "   \"lurn_si_29_bother\")\n",
    "symptoms <- c(\"Total\", \n",
    "    \"Incontinence\", \n",
    "    \"Pain\", \n",
    "    \"Voiding\", \n",
    "    \"Urgency\", \n",
    "    \"Nocturia\", \n",
    "    \"Bother\"\n",
    ")\n",
    "splom_vars <- rev(splom_vars)\n",
    "symptoms <- rev(symptoms)\n",
    "\n",
    "source(\"../flexdashboard/data_cleaning.R\")\n",
    "bph <- clean_real_data(read.csv(\"../data/EH22021EnhancedClini-LURNSI29Report_DATA_2023-09-08_1340.csv\"), study_arm, patient_week, splom_vars, symptoms)\n",
    "\n",
    "input_params <- list(\n",
    "    patient_id = patient_id, \n",
    "    patient_week = patient_week, \n",
    "    study_arm = study_arm,\n",
    "    patient_row = which(bph$arm_dat_week$ID == patient_id)[1]\n",
    ")"
   ]
  },
  {
   "cell_type": "code",
   "execution_count": null,
   "metadata": {
    "vscode": {
     "languageId": "r"
    }
   },
   "outputs": [],
   "source": [
    "source(\"../flexdashboard/plotting_functions.R\")\n",
    "\n",
    "bar_chart <- create_current_week_summary_bar_chart(bph$arm_dat_week, symptoms, input_params, show_density = FALSE)\n",
    "\n",
    "line_plot <- create_time_series_line_plot(bph$arm_dat, symptoms, input_params, show_density = FALSE)\n",
    "\n",
    "\n",
    "g <- plot_grid(bar_chart, line_plot$plot, ncol = 2, align = \"h\", rel_widths = c(0.49,0.51), axis = \"l\")\n",
    "p <- plot_grid(g, line_plot$legend, ncol = 1, rel_heights = c(1, 0.2))\n",
    "\n",
    "\n",
    "# save the image and then read it back in so that I can annotate it more easily and have consistent sizing!\n",
    "tmp <- tempfile(\"image0\", fileext = \".png\")\n",
    "ggsave(tmp, p, width = 12, height = 8)\n",
    "img <- image_read(tmp)\n",
    "\n",
    "img\n"
   ]
  },
  {
   "cell_type": "code",
   "execution_count": null,
   "metadata": {
    "vscode": {
     "languageId": "r"
    }
   },
   "outputs": [],
   "source": [
    "# testing differences in median ane ecdf\n",
    "x <- c(1,5,3,7,9,6,23,5,7,9,6,3,76,8,6)\n",
    "med <- median(x)\n",
    "percentile <- ecdf(x)\n",
    "print(med)\n",
    "print(quantile(x, probs = 0.5, type = 8))\n",
    "print(percentile(med))"
   ]
  },
  {
   "cell_type": "code",
   "execution_count": null,
   "metadata": {
    "vscode": {
     "languageId": "r"
    }
   },
   "outputs": [],
   "source": [
    "# Rscript -e \"rmarkdown::render('SI-29_dashboard.Rmd', params = list(patient_id = 'EH22-021-001', patient_week = 12, study_arm = 'arm_1'))\""
   ]
  }
 ],
 "metadata": {
  "kernelspec": {
   "display_name": "R",
   "language": "R",
   "name": "ir"
  },
  "language_info": {
   "codemirror_mode": "r",
   "file_extension": ".r",
   "mimetype": "text/x-r-source",
   "name": "R",
   "pygments_lexer": "r",
   "version": "4.2.3"
  },
  "orig_nbformat": 4
 },
 "nbformat": 4,
 "nbformat_minor": 2
}
